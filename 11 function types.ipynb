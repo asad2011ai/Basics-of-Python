{
 "cells": [
  {
   "cell_type": "markdown",
   "metadata": {},
   "source": [
    "# ANONYMOUS"
   ]
  },
  {
   "cell_type": "code",
   "execution_count": 1,
   "metadata": {},
   "outputs": [
    {
     "data": {
      "text/plain": [
       "64"
      ]
     },
     "execution_count": 1,
     "metadata": {},
     "output_type": "execute_result"
    }
   ],
   "source": [
    "def cube(y):\n",
    "    y =y*y*y\n",
    "    return y\n",
    "cube(4)"
   ]
  },
  {
   "cell_type": "markdown",
   "metadata": {},
   "source": [
    "# Lambda"
   ]
  },
  {
   "cell_type": "code",
   "execution_count": 2,
   "metadata": {},
   "outputs": [
    {
     "name": "stdout",
     "output_type": "stream",
     "text": [
      "125\n"
     ]
    }
   ],
   "source": [
    "lambda_cube = lambda y:y*y*y\n",
    "print(lambda_cube(5))"
   ]
  },
  {
   "cell_type": "markdown",
   "metadata": {},
   "source": [
    "# Example : Find the sum of two numbers using lambda function"
   ]
  },
  {
   "cell_type": "code",
   "execution_count": 3,
   "metadata": {},
   "outputs": [
    {
     "name": "stdout",
     "output_type": "stream",
     "text": [
      "13\n"
     ]
    }
   ],
   "source": [
    "sum = lambda x,y: x+y\n",
    "print(sum(4,9))"
   ]
  },
  {
   "cell_type": "code",
   "execution_count": 4,
   "metadata": {},
   "outputs": [
    {
     "data": {
      "text/plain": [
       "44"
      ]
     },
     "execution_count": 4,
     "metadata": {},
     "output_type": "execute_result"
    }
   ],
   "source": [
    "(lambda x,y: x+y)(10,34)"
   ]
  },
  {
   "cell_type": "markdown",
   "metadata": {},
   "source": [
    "# Filter function\n",
    "Example: Write a function that receives a list and return the vowels in the list"
   ]
  },
  {
   "cell_type": "code",
   "execution_count": 5,
   "metadata": {},
   "outputs": [
    {
     "name": "stdout",
     "output_type": "stream",
     "text": [
      "The filtered letters are:\n",
      "e\n",
      "e\n",
      "i\n"
     ]
    }
   ],
   "source": [
    "def vowels( alpha):\n",
    "    variables = [\"a\",\"e\",\"i\",\"o\",\"u\"]\n",
    "    if alpha in variables:\n",
    "        return True\n",
    "    else:\n",
    "        return False\n",
    "    \n",
    "sequence =[\"g\",'e','e','j','k','i','f']\n",
    "filtered = filter(vowels, sequence)\n",
    "print('The filtered letters are:')\n",
    "for s in filtered:\n",
    "    print(s)"
   ]
  },
  {
   "cell_type": "markdown",
   "metadata": {},
   "source": [
    "# Using lambda function with filter\n",
    "Example\n",
    "A list contains both even and odd numbers. Use lambda and filter function to print odd numbers¶"
   ]
  },
  {
   "cell_type": "code",
   "execution_count": 6,
   "metadata": {},
   "outputs": [
    {
     "name": "stdout",
     "output_type": "stream",
     "text": [
      "[2, 4, 6, 8, 22, 56, 44]\n"
     ]
    }
   ],
   "source": [
    "list2 =[1,2,3,4,5,6,7,8,9,11,22,33,445,56,44,5]\n",
    "result= filter(lambda x:x%2==0,list2)\n",
    "print(list(result))"
   ]
  },
  {
   "cell_type": "markdown",
   "metadata": {},
   "source": [
    "# A list contains both even and odd numbers. Use lambda and filter function to print even number"
   ]
  },
  {
   "cell_type": "code",
   "execution_count": 7,
   "metadata": {},
   "outputs": [
    {
     "name": "stdout",
     "output_type": "stream",
     "text": [
      "[1, 3, 5, 7, 9, 11, 23]\n"
     ]
    }
   ],
   "source": [
    "list1 =[1,2,3,4,5,6,7,9,11,23]\n",
    "result = filter(lambda x:x%2!=0,list1)\n",
    "print(list(result))"
   ]
  },
  {
   "cell_type": "markdown",
   "metadata": {},
   "source": [
    "# Exercise: Write a function that filters out the people above 20 years . Use lambda and filter function"
   ]
  },
  {
   "cell_type": "code",
   "execution_count": 8,
   "metadata": {},
   "outputs": [
    {
     "name": "stdout",
     "output_type": "stream",
     "text": [
      "[21, 23, 24, 25, 28, 67, 33]\n"
     ]
    }
   ],
   "source": [
    "age = [10,11,17,12,21,23,24,25,28,67,33,14,15]\n",
    "result = filter(lambda x:x>20,age)\n",
    "print(list(result))"
   ]
  },
  {
   "cell_type": "markdown",
   "metadata": {},
   "source": [
    "# Write a program to find the square of a list Code"
   ]
  },
  {
   "cell_type": "code",
   "execution_count": 10,
   "metadata": {},
   "outputs": [
    {
     "name": "stdout",
     "output_type": "stream",
     "text": [
      "[1, 4, 9, 16, 25, 36, 49]\n"
     ]
    }
   ],
   "source": [
    "sets = [1,2,3,4,5,6,7]\n",
    "sets2 = []\n",
    "for num in sets:\n",
    "    sets2.append(num ** 2)\n",
    "print(sets2)"
   ]
  },
  {
   "cell_type": "markdown",
   "metadata": {},
   "source": [
    "# Same function using map()"
   ]
  },
  {
   "cell_type": "code",
   "execution_count": 11,
   "metadata": {},
   "outputs": [
    {
     "name": "stdout",
     "output_type": "stream",
     "text": [
      "[1, 4, 9, 16, 25, 36, 49, 64]\n"
     ]
    }
   ],
   "source": [
    "def square(number):\n",
    "    return number **2\n",
    "number =[1,2,3,4,5,6,7,8]\n",
    "sets = map(square,number)\n",
    "print(list(sets))"
   ]
  },
  {
   "cell_type": "markdown",
   "metadata": {},
   "source": [
    "# Implementing same code using lambda in map()"
   ]
  },
  {
   "cell_type": "code",
   "execution_count": 12,
   "metadata": {},
   "outputs": [
    {
     "name": "stdout",
     "output_type": "stream",
     "text": [
      "[1, 4, 9, 16, 25, 36, 49, 64]\n"
     ]
    }
   ],
   "source": [
    "numbers =[1,2,3,4,5,6,7,8]\n",
    "sets = map(lambda x:x**2,numbers)\n",
    "print(list(sets))"
   ]
  },
  {
   "cell_type": "markdown",
   "metadata": {},
   "source": [
    "# Exercise 1: Write a code that takes a list and return its double. Use lambda and map function"
   ]
  },
  {
   "cell_type": "code",
   "execution_count": 13,
   "metadata": {},
   "outputs": [
    {
     "name": "stdout",
     "output_type": "stream",
     "text": [
      "[2, 4, 6, 8, 10, 12, 14, 16]\n"
     ]
    }
   ],
   "source": [
    "numbers =[1,2,3,4,5,6,7,8]\n",
    "sets = map(lambda x:x*2,numbers)\n",
    "print(list(sets))"
   ]
  },
  {
   "cell_type": "markdown",
   "metadata": {},
   "source": [
    "# Exercise 2: Write a code that receives the list of animal names and return the uppercase name list using lambda and map function"
   ]
  },
  {
   "cell_type": "code",
   "execution_count": 14,
   "metadata": {},
   "outputs": [
    {
     "name": "stdout",
     "output_type": "stream",
     "text": [
      "['DOG', 'CAT', 'PARROT', 'RABBIT']\n"
     ]
    }
   ],
   "source": [
    "animals = ['dog', 'cat', 'parrot', 'rabbit']\n",
    "upper = map(lambda animals:str.upper(animals),animals)\n",
    "print(list(upper))"
   ]
  },
  {
   "cell_type": "markdown",
   "metadata": {},
   "source": [
    "# Example : Write a code to sum all the elements in a list"
   ]
  },
  {
   "cell_type": "code",
   "execution_count": 15,
   "metadata": {},
   "outputs": [
    {
     "name": "stdout",
     "output_type": "stream",
     "text": [
      "6\n"
     ]
    }
   ],
   "source": [
    "def my_func(list):\n",
    "    sum1 = 0\n",
    "    for i in list:\n",
    "        sum1 = sum1 + 1\n",
    "    return sum1\n",
    "list = [1,2,3,4,5,6]\n",
    "sum2 = my_func(list)\n",
    "print(sum2)"
   ]
  },
  {
   "cell_type": "code",
   "execution_count": 16,
   "metadata": {},
   "outputs": [],
   "source": [
    "from functools import reduce"
   ]
  },
  {
   "cell_type": "markdown",
   "metadata": {},
   "source": [
    "# Write a code to sum all the elements in a list using reduce"
   ]
  },
  {
   "cell_type": "code",
   "execution_count": 17,
   "metadata": {},
   "outputs": [
    {
     "data": {
      "text/plain": [
       "10"
      ]
     },
     "execution_count": 17,
     "metadata": {},
     "output_type": "execute_result"
    }
   ],
   "source": [
    "def my_add(a, b):\n",
    "    result = a + b\n",
    "    return result\n",
    "numbers = [0, 1, 2, 3, 4]\n",
    "reduce(my_add,numbers)"
   ]
  },
  {
   "cell_type": "code",
   "execution_count": 18,
   "metadata": {},
   "outputs": [
    {
     "data": {
      "text/plain": [
       "36"
      ]
     },
     "execution_count": 18,
     "metadata": {},
     "output_type": "execute_result"
    }
   ],
   "source": [
    "numbers = [1,2,3,4,5,6,7,8]\n",
    "reduce(lambda a,b:a+b , numbers)"
   ]
  },
  {
   "cell_type": "markdown",
   "metadata": {},
   "source": [
    "# Exercise 1: Write a function to find the maximum number in a list with simple function"
   ]
  },
  {
   "cell_type": "code",
   "execution_count": 19,
   "metadata": {},
   "outputs": [
    {
     "name": "stdout",
     "output_type": "stream",
     "text": [
      "maximun value is  91\n"
     ]
    }
   ],
   "source": [
    "def max_check(x):\n",
    "    max_value = x[0]\n",
    "    for check in x:\n",
    "        if check > max_value:\n",
    "            max_val = check\n",
    "    return max_val\n",
    "my_list = [2,3,4,5,6,7,8,91]\n",
    "print(\"maximun value is \", max_check(my_list))"
   ]
  },
  {
   "cell_type": "markdown",
   "metadata": {},
   "source": [
    "# Exercise 2: Write a function to find the maximum of a number using reduce"
   ]
  },
  {
   "cell_type": "code",
   "execution_count": 20,
   "metadata": {},
   "outputs": [
    {
     "name": "stdout",
     "output_type": "stream",
     "text": [
      "5332\n"
     ]
    }
   ],
   "source": [
    "def max_value(x,y):\n",
    "    return x if x > y else y\n",
    "my_list = [21,23,45,67,34,87,42,678,5332,457]\n",
    "print(reduce(max_value,my_list))"
   ]
  },
  {
   "cell_type": "markdown",
   "metadata": {},
   "source": [
    "# Exercise 3: Write a function to find the maximum of a number using lambda with reduce"
   ]
  },
  {
   "cell_type": "code",
   "execution_count": 21,
   "metadata": {},
   "outputs": [
    {
     "name": "stdout",
     "output_type": "stream",
     "text": [
      "36\n"
     ]
    }
   ],
   "source": [
    "my_list = [2,4,7,2,36,12]\n",
    "print(reduce(lambda x,y:x if x>y else y , my_list))"
   ]
  },
  {
   "cell_type": "code",
   "execution_count": null,
   "metadata": {},
   "outputs": [],
   "source": []
  }
 ],
 "metadata": {
  "kernelspec": {
   "display_name": "Python 3",
   "language": "python",
   "name": "python3"
  },
  "language_info": {
   "codemirror_mode": {
    "name": "ipython",
    "version": 3
   },
   "file_extension": ".py",
   "mimetype": "text/x-python",
   "name": "python",
   "nbconvert_exporter": "python",
   "pygments_lexer": "ipython3",
   "version": "3.7.9"
  }
 },
 "nbformat": 4,
 "nbformat_minor": 4
}
