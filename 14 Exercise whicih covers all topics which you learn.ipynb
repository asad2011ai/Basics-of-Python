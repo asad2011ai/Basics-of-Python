{
 "cells": [
  {
   "cell_type": "markdown",
   "metadata": {},
   "source": [
    "# Get an input from the user and apply a condition to implement AND operation"
   ]
  },
  {
   "cell_type": "code",
   "execution_count": 1,
   "metadata": {},
   "outputs": [
    {
     "name": "stdout",
     "output_type": "stream",
     "text": [
      "Enter the value of X :1\n",
      "Enter the value of Y :0\n",
      "0\n",
      "0\n"
     ]
    }
   ],
   "source": [
    "x = int(input(\"Enter the value of X :\"))\n",
    "y = int(input(\"Enter the value of Y :\"))\n",
    "if x and y == 0:\n",
    "    print(0) \n",
    "if x == 0 and y == 1:\n",
    "    print(0)\n",
    "if x == 1 and y == 0:\n",
    "    print(0)\n",
    "if x and y == 1:\n",
    "    print(1)"
   ]
  },
  {
   "cell_type": "markdown",
   "metadata": {},
   "source": [
    "# Get an input from the user and apply a condition to implement OR operation"
   ]
  },
  {
   "cell_type": "code",
   "execution_count": 3,
   "metadata": {},
   "outputs": [
    {
     "name": "stdout",
     "output_type": "stream",
     "text": [
      "Enter the value of X :9\n",
      "Enter the value of Y :5\n",
      "True\n"
     ]
    }
   ],
   "source": [
    "x = int(input(\"Enter the value of X :\"))\n",
    "y = int(input(\"Enter the value of Y :\"))\n",
    "if x or y == 1:\n",
    "    print(\"True\")\n",
    "else:\n",
    "    print(\"False\")\n"
   ]
  },
  {
   "cell_type": "markdown",
   "metadata": {},
   "source": [
    "# create a code to convert meter into kilometer or cm or voice versa."
   ]
  },
  {
   "cell_type": "code",
   "execution_count": 4,
   "metadata": {},
   "outputs": [
    {
     "name": "stdout",
     "output_type": "stream",
     "text": [
      "Enter the number = 5\n",
      "Enter your current unit = 5\n",
      "Enter your converted unit = 8\n"
     ]
    }
   ],
   "source": [
    "length = int(input(\"Enter the number = \"))\n",
    "current_unit = input(\"Enter your current unit = \")\n",
    "converted_unit = input(\"Enter your converted unit = \")\n",
    "if current_unit == \"meter\" and converted_unit == \"cm\":\n",
    "    cm = length *100\n",
    "    print(\"The conversion of meter to cm is = \")\n",
    "    print(cm)\n",
    "if current_unit == \"meter\" and converted_unit == \"km\":\n",
    "    km = length * 0.001\n",
    "    print(\"The conversion of meter to km is = \")\n",
    "    print(km)\n",
    "if current_unit == \"cm\" and converted_unit == \"meter\":\n",
    "    meter = length *0.01\n",
    "    print(\"The conversion of cm to meter is = \")\n",
    "    print(meter)\n",
    "if current_unit == \"cm\" and converted_unit == \"km\":\n",
    "    km2 = length *0.00001\n",
    "    print(\"The conversion of cm to km is = \")\n",
    "    print(km2)  \n",
    "if current_unit == \"km\" and converted_unit == \"meter\":\n",
    "    meter2 = length *1000\n",
    "    print(\"The conversion of km to meter is = \")\n",
    "    print(meter2)\n",
    "if current_unit == \"km\" and converted_unit == \"cm\":\n",
    "    cm2 = length *100000\n",
    "    print(\"The conversion of km to cm is = \")\n",
    "    print(cm2)"
   ]
  },
  {
   "cell_type": "markdown",
   "metadata": {},
   "source": [
    "# create a list and convert that list into accending or decending order"
   ]
  },
  {
   "cell_type": "code",
   "execution_count": 5,
   "metadata": {},
   "outputs": [
    {
     "name": "stdout",
     "output_type": "stream",
     "text": [
      "[1, 2, 3, 4, 6, 8, 12, 32, 45, 67, 123]\n"
     ]
    }
   ],
   "source": [
    "sets = [1,2,6,4,8,3,12,123,45,32,67]\n",
    "for first in range(len(sets)):\n",
    "    for second in range(first+1, len(sets)):\n",
    "        if sets[first] > sets[second]:\n",
    "            sets[first] , sets[second] = sets[second],sets[first]\n",
    "print(sets)"
   ]
  },
  {
   "cell_type": "code",
   "execution_count": 6,
   "metadata": {},
   "outputs": [
    {
     "name": "stdout",
     "output_type": "stream",
     "text": [
      "[123, 67, 45, 32, 12, 8, 6, 4, 3, 2, 1]\n"
     ]
    }
   ],
   "source": [
    "sets = [1,2,6,4,8,3,12,123,45,32,67]\n",
    "for first in range(len(sets)):\n",
    "    for second in range(first+1, len(sets)):\n",
    "        if sets[first] < sets[second]:\n",
    "            sets[first] , sets[second] = sets[second],sets[first]\n",
    "print(sets)"
   ]
  },
  {
   "cell_type": "code",
   "execution_count": 7,
   "metadata": {},
   "outputs": [
    {
     "data": {
      "text/plain": [
       "11"
      ]
     },
     "execution_count": 7,
     "metadata": {},
     "output_type": "execute_result"
    }
   ],
   "source": [
    "sets = [1,2,6,4,8,3,12,123,45,32,67]\n",
    "len(sets)"
   ]
  },
  {
   "cell_type": "code",
   "execution_count": 8,
   "metadata": {},
   "outputs": [
    {
     "name": "stdout",
     "output_type": "stream",
     "text": [
      "1 for ASC\n",
      "2 for DECS: \n",
      "2\n",
      "[77, 67, 53, 45, 45, 33, 32, 23, 22, 22, 11]\n"
     ]
    }
   ],
   "source": [
    "data_list = [11,22,32,33,53,22,45,77,23,45,67]\n",
    "new_list = []\n",
    "a = int(input('1 for ASC\\n2 for DECS: \\n'))\n",
    "if(a==1):\n",
    "    while data_list:\n",
    "        minimum = data_list[0]\n",
    "        for x in data_list:\n",
    "            if x< minimum:\n",
    "                minimun = x\n",
    "        new_list.append(minimum)\n",
    "        data_list.remove(minimum)\n",
    "    print(new_list)\n",
    "else:\n",
    "    while data_list:\n",
    "        minimum = data_list[0]\n",
    "        for x in data_list:\n",
    "            if x > minimum:\n",
    "                minimum = x\n",
    "        new_list.append(minimum)\n",
    "        data_list.remove(minimum)\n",
    "    print(new_list)"
   ]
  },
  {
   "cell_type": "code",
   "execution_count": null,
   "metadata": {},
   "outputs": [],
   "source": []
  }
 ],
 "metadata": {
  "kernelspec": {
   "display_name": "Python 3",
   "language": "python",
   "name": "python3"
  },
  "language_info": {
   "codemirror_mode": {
    "name": "ipython",
    "version": 3
   },
   "file_extension": ".py",
   "mimetype": "text/x-python",
   "name": "python",
   "nbconvert_exporter": "python",
   "pygments_lexer": "ipython3",
   "version": "3.7.9"
  }
 },
 "nbformat": 4,
 "nbformat_minor": 4
}
