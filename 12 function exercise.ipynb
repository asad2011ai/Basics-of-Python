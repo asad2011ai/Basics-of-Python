{
 "cells": [
  {
   "cell_type": "markdown",
   "metadata": {},
   "source": [
    "# Define a function to add two parameters and return the sum"
   ]
  },
  {
   "cell_type": "code",
   "execution_count": 1,
   "metadata": {},
   "outputs": [
    {
     "name": "stdout",
     "output_type": "stream",
     "text": [
      "inside the function local total:  30\n",
      "outside the function golbal total: 0\n"
     ]
    }
   ],
   "source": [
    "total = 0\n",
    "def sum(arg1,arg2):\n",
    "    total = arg1 + arg2\n",
    "    print(\"inside the function local total: \", total)\n",
    "    return total\n",
    "sum(10,20)\n",
    "print(\"outside the function golbal total:\", total)"
   ]
  },
  {
   "cell_type": "markdown",
   "metadata": {},
   "source": [
    "# Excercise 1 : write down a function that receives a list and return its square"
   ]
  },
  {
   "cell_type": "code",
   "execution_count": 2,
   "metadata": {},
   "outputs": [
    {
     "name": "stdout",
     "output_type": "stream",
     "text": [
      "[2, 4, 6, 8, 10]\n"
     ]
    }
   ],
   "source": [
    "list2 =[1,2,3,4,5]\n",
    "def list1(x):\n",
    "    list3 = []\n",
    "    for i in x:\n",
    "        list3.append(i*2)\n",
    "    return list3\n",
    "a=list1(list2)\n",
    "print(a)"
   ]
  },
  {
   "cell_type": "markdown",
   "metadata": {},
   "source": [
    "# Exercise 2: write a function that take arbitrary number of input values and return average of all of them"
   ]
  },
  {
   "cell_type": "code",
   "execution_count": 3,
   "metadata": {},
   "outputs": [
    {
     "data": {
      "text/plain": [
       "0.2"
      ]
     },
     "execution_count": 3,
     "metadata": {},
     "output_type": "execute_result"
    }
   ],
   "source": [
    "def avg(*args):\n",
    "    total = 0\n",
    "    for i in args:\n",
    "        total += i\n",
    "        return total/len(args)\n",
    "\n",
    "avg(1,2,3,4,5)"
   ]
  },
  {
   "cell_type": "markdown",
   "metadata": {},
   "source": [
    "# write an function that take two number and a operator(+,-,*,/) and return the number depending on the operating on the operation pass"
   ]
  },
  {
   "cell_type": "code",
   "execution_count": 4,
   "metadata": {},
   "outputs": [
    {
     "data": {
      "text/plain": [
       "12"
      ]
     },
     "execution_count": 4,
     "metadata": {},
     "output_type": "execute_result"
    }
   ],
   "source": [
    "def operation(x,y,op):\n",
    "    if op == '+':\n",
    "        return x + y\n",
    "    if op == \"-\":\n",
    "        return x - y\n",
    "    if op == \"*\":\n",
    "        return x * y\n",
    "    if op == \"/\":\n",
    "        return x / y\n",
    "operation(4,3,\"*\")"
   ]
  },
  {
   "cell_type": "code",
   "execution_count": 5,
   "metadata": {},
   "outputs": [
    {
     "name": "stdout",
     "output_type": "stream",
     "text": [
      "enter the value of X = 5\n",
      "enter the value of Y = 5\n"
     ]
    },
    {
     "data": {
      "text/plain": [
       "25"
      ]
     },
     "execution_count": 5,
     "metadata": {},
     "output_type": "execute_result"
    }
   ],
   "source": [
    "x = int(input(\"enter the value of X = \"))\n",
    "y = int(input(\"enter the value of Y = \"))\n",
    "def operation(x,y,op):\n",
    "    if op == '+':\n",
    "        return x + y\n",
    "    if op == \"-\":\n",
    "        return x - y\n",
    "    if op == \"*\":\n",
    "        return x * y\n",
    "    if op == \"/\":\n",
    "        return x / y\n",
    "operation(x,y,\"*\")"
   ]
  },
  {
   "cell_type": "code",
   "execution_count": 6,
   "metadata": {},
   "outputs": [
    {
     "name": "stdout",
     "output_type": "stream",
     "text": [
      "enter the value of X = 8\n",
      "enter the value of Y = 7\n"
     ]
    },
    {
     "data": {
      "text/plain": [
       "1.1428571428571428"
      ]
     },
     "execution_count": 6,
     "metadata": {},
     "output_type": "execute_result"
    }
   ],
   "source": [
    "x = int(input(\"enter the value of X = \"))\n",
    "y = int(input(\"enter the value of Y = \"))\n",
    "operation(x,y,\"/\")"
   ]
  },
  {
   "cell_type": "code",
   "execution_count": null,
   "metadata": {},
   "outputs": [],
   "source": []
  }
 ],
 "metadata": {
  "kernelspec": {
   "display_name": "Python 3",
   "language": "python",
   "name": "python3"
  },
  "language_info": {
   "codemirror_mode": {
    "name": "ipython",
    "version": 3
   },
   "file_extension": ".py",
   "mimetype": "text/x-python",
   "name": "python",
   "nbconvert_exporter": "python",
   "pygments_lexer": "ipython3",
   "version": "3.7.9"
  }
 },
 "nbformat": 4,
 "nbformat_minor": 4
}
