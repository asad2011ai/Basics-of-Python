{
 "cells": [
  {
   "cell_type": "markdown",
   "metadata": {},
   "source": [
    "# handle the exception thrown by the code below by using try and except blocks"
   ]
  },
  {
   "cell_type": "code",
   "execution_count": 1,
   "metadata": {},
   "outputs": [
    {
     "name": "stdout",
     "output_type": "stream",
     "text": [
      "Error: STRING CAN'T BE POWERED\n"
     ]
    }
   ],
   "source": [
    "for i in ['a','b','c']:\n",
    "    try:\n",
    "        print(i**2)\n",
    "    except:\n",
    "        print(\"Error: STRING CAN'T BE POWERED\")\n",
    "        break"
   ]
  },
  {
   "cell_type": "markdown",
   "metadata": {},
   "source": [
    "# Problem 2: Handle the exception thrown by the code below by using try and except blocks. Then use a finally block to print 'All Done.'"
   ]
  },
  {
   "cell_type": "code",
   "execution_count": 2,
   "metadata": {},
   "outputs": [
    {
     "name": "stdout",
     "output_type": "stream",
     "text": [
      "zero can't be divided by any number\n",
      "End Of Program\n"
     ]
    }
   ],
   "source": [
    "x = 5\n",
    "y = 0\n",
    "try:\n",
    "    z = x/y\n",
    "except ZeroDivisionError:\n",
    "    print(\"zero can't be divided by any number\")\n",
    "finally:\n",
    "    print(\"End Of Program\")"
   ]
  },
  {
   "cell_type": "markdown",
   "metadata": {},
   "source": [
    "# Problem 3: Write a function that asks for an integer and prints the square of it. Use a while loop with a try, except, else block to account for incorrect inputs."
   ]
  },
  {
   "cell_type": "code",
   "execution_count": 3,
   "metadata": {},
   "outputs": [
    {
     "name": "stdout",
     "output_type": "stream",
     "text": [
      "Input an integer: 5\n",
      "Input an integer: \n",
      "Thank you, your number squared is:  25\n"
     ]
    }
   ],
   "source": [
    "def ask():\n",
    "    while True:\n",
    "        try:\n",
    "            intager = int(input(\"Input an integer: \"))\n",
    "        except:\n",
    "            print(\"An error occurred! Please try again!\")\n",
    "            continue\n",
    "        else:\n",
    "            print(\"Input an integer: \")\n",
    "            print(\"Thank you, your number squared is: \" , intager**2)\n",
    "            break\n",
    "\n",
    "ask()"
   ]
  },
  {
   "cell_type": "code",
   "execution_count": null,
   "metadata": {},
   "outputs": [],
   "source": []
  }
 ],
 "metadata": {
  "kernelspec": {
   "display_name": "Python 3",
   "language": "python",
   "name": "python3"
  },
  "language_info": {
   "codemirror_mode": {
    "name": "ipython",
    "version": 3
   },
   "file_extension": ".py",
   "mimetype": "text/x-python",
   "name": "python",
   "nbconvert_exporter": "python",
   "pygments_lexer": "ipython3",
   "version": "3.7.9"
  }
 },
 "nbformat": 4,
 "nbformat_minor": 4
}
