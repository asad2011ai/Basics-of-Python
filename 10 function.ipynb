{
 "cells": [
  {
   "cell_type": "markdown",
   "metadata": {},
   "source": [
    "# function"
   ]
  },
  {
   "cell_type": "code",
   "execution_count": 1,
   "metadata": {},
   "outputs": [],
   "source": [
    "def my_function():\n",
    "    print(\"Hello from the function\")\n"
   ]
  },
  {
   "cell_type": "code",
   "execution_count": 2,
   "metadata": {},
   "outputs": [
    {
     "name": "stdout",
     "output_type": "stream",
     "text": [
      "Hello from the function\n"
     ]
    }
   ],
   "source": [
    "my_function()"
   ]
  },
  {
   "cell_type": "code",
   "execution_count": 3,
   "metadata": {},
   "outputs": [
    {
     "name": "stdout",
     "output_type": "stream",
     "text": [
      "None\n",
      "hello\n",
      "hellon world\n"
     ]
    }
   ],
   "source": [
    "def say_hi():\n",
    "    print(\"hello\") # the reason for none result because of first it run documentation\n",
    "    \"Hello function\" \n",
    "    print(\"hellon world\")\n",
    "print(say_hi.__doc__)\n",
    "say_hi()"
   ]
  },
  {
   "cell_type": "markdown",
   "metadata": {},
   "source": [
    "# function argument"
   ]
  },
  {
   "cell_type": "code",
   "execution_count": 7,
   "metadata": {},
   "outputs": [
    {
     "name": "stdout",
     "output_type": "stream",
     "text": [
      "Email refsnes\n",
      "tobias refsnes\n",
      "linus refsnes\n"
     ]
    }
   ],
   "source": [
    "def my_functions(fname):\n",
    "    print(fname + \" \" + \"refsnes\")\n",
    "my_functions('Email')\n",
    "my_functions(\"tobias\")\n",
    "my_functions('linus')"
   ]
  },
  {
   "cell_type": "markdown",
   "metadata": {},
   "source": [
    "# function with two arguments"
   ]
  },
  {
   "cell_type": "code",
   "execution_count": 8,
   "metadata": {},
   "outputs": [
    {
     "name": "stdout",
     "output_type": "stream",
     "text": [
      "asad khan\n"
     ]
    }
   ],
   "source": [
    "def my_function(fname , lname):\n",
    "    print(fname + \" \" + lname)\n",
    "my_function(\"asad\",\"khan\")"
   ]
  },
  {
   "cell_type": "markdown",
   "metadata": {},
   "source": [
    "# python code to demonstrate call by value"
   ]
  },
  {
   "cell_type": "code",
   "execution_count": 9,
   "metadata": {},
   "outputs": [
    {
     "name": "stdout",
     "output_type": "stream",
     "text": [
      "inside function: GeeksforGeeks\n",
      "outside  djkccoijsfpj function: Geeks\n"
     ]
    }
   ],
   "source": [
    "string = 'Geeks'\n",
    "def test(string):\n",
    "    string = \"GeeksforGeeks\"\n",
    "    print('inside function:' , string)\n",
    "test(string)\n",
    "print('outside  djkccoijsfpj function:', string)"
   ]
  },
  {
   "cell_type": "markdown",
   "metadata": {},
   "source": [
    "# is python call by reference or call by value\n",
    "python code to determine call by reference"
   ]
  },
  {
   "cell_type": "code",
   "execution_count": 10,
   "metadata": {},
   "outputs": [
    {
     "name": "stdout",
     "output_type": "stream",
     "text": [
      "inside function [10, 20, 30, 40, 50]\n",
      "outside Function:  [10, 20, 30, 40, 50]\n"
     ]
    }
   ],
   "source": [
    "def add_more(list):\n",
    "    list.append(50)\n",
    "    print(\"inside function\", list)\n",
    "mylist = [10,20,30,40]\n",
    "add_more(mylist)\n",
    "print(\"outside Function: \" , mylist)"
   ]
  },
  {
   "cell_type": "markdown",
   "metadata": {},
   "source": [
    "# what is the output"
   ]
  },
  {
   "cell_type": "code",
   "execution_count": 11,
   "metadata": {},
   "outputs": [
    {
     "name": "stdout",
     "output_type": "stream",
     "text": [
      "3 2\n",
      "2\n",
      "3\n"
     ]
    }
   ],
   "source": [
    "def swap(x,y):\n",
    "    temp = x\n",
    "    x = y \n",
    "    y = temp\n",
    "    print(x,y)\n",
    "x = 2\n",
    "y = 3\n",
    "swap(x,y)\n",
    "print(x)\n",
    "print(y)"
   ]
  },
  {
   "cell_type": "markdown",
   "metadata": {},
   "source": [
    "# here x is a new reference to same list lst"
   ]
  },
  {
   "cell_type": "code",
   "execution_count": 12,
   "metadata": {},
   "outputs": [
    {
     "name": "stdout",
     "output_type": "stream",
     "text": [
      "[20, 11, 12, 13, 14, 15]\n"
     ]
    }
   ],
   "source": [
    "def myfun(x):\n",
    "    x[0] = 20\n",
    "lst =[10,11,12,13,14,15]\n",
    "myfun(lst)\n",
    "print(lst)    "
   ]
  },
  {
   "cell_type": "markdown",
   "metadata": {},
   "source": [
    "# Arbitrary function"
   ]
  },
  {
   "cell_type": "code",
   "execution_count": 13,
   "metadata": {},
   "outputs": [
    {
     "name": "stdout",
     "output_type": "stream",
     "text": [
      "THE YOUNGEST CHILD IS:linus\n"
     ]
    }
   ],
   "source": [
    "def my_function(*kids):\n",
    "    print(\"THE YOUNGEST CHILD IS:\" + kids[2])\n",
    "my_function(\"Emil\",\"Tobias\",'linus')"
   ]
  },
  {
   "cell_type": "markdown",
   "metadata": {},
   "source": [
    "# keyword Argument"
   ]
  },
  {
   "cell_type": "code",
   "execution_count": 14,
   "metadata": {},
   "outputs": [
    {
     "name": "stdout",
     "output_type": "stream",
     "text": [
      "THE YOUNGEST CHILD ISLinus\n"
     ]
    }
   ],
   "source": [
    "def my_fun(child3,child2,child1):\n",
    "    print(\"THE YOUNGEST CHILD IS\" + child3)\n",
    "my_fun(child1 = 'Emil', child2 = 'Tobia', child3 = 'Linus')"
   ]
  },
  {
   "cell_type": "markdown",
   "metadata": {},
   "source": [
    "# Arbitrary function **kwargs"
   ]
  },
  {
   "cell_type": "code",
   "execution_count": 15,
   "metadata": {},
   "outputs": [
    {
     "name": "stdout",
     "output_type": "stream",
     "text": [
      "His last name is :Refsnes\n"
     ]
    }
   ],
   "source": [
    "def my_function(**kid):\n",
    "    print(\"His last name is :\" + kid[\"lname\"])\n",
    "my_function(fname = \"tobias\",lname = \"Refsnes\")"
   ]
  },
  {
   "cell_type": "markdown",
   "metadata": {},
   "source": [
    "# Default Parameter Value¶\n",
    "if we call the function without argumnet, it uses the fefault value"
   ]
  },
  {
   "cell_type": "code",
   "execution_count": 16,
   "metadata": {},
   "outputs": [
    {
     "name": "stdout",
     "output_type": "stream",
     "text": [
      "i am from sweden\n",
      "i am from india\n",
      "i am from norway\n",
      "i am from Brazil\n"
     ]
    }
   ],
   "source": [
    "def my_funt(country = 'norway'):\n",
    "    print(\"i am from\"+ \" \" + country)\n",
    "\n",
    "my_funt(\"sweden\")\n",
    "my_funt(\"india\")\n",
    "my_funt()\n",
    "my_funt(\"Brazil\")"
   ]
  },
  {
   "cell_type": "markdown",
   "metadata": {},
   "source": [
    "# return values"
   ]
  },
  {
   "cell_type": "code",
   "execution_count": 17,
   "metadata": {},
   "outputs": [
    {
     "name": "stdout",
     "output_type": "stream",
     "text": [
      "This function returns the square\n",
      "    value of the entered number\n",
      "4\n",
      "4\n"
     ]
    }
   ],
   "source": [
    "def square_value(num):\n",
    "    \"\"\"This function returns the square\n",
    "    value of the entered number\"\"\"\n",
    "    num =2\n",
    "    num = num**2\n",
    "    return num\n",
    "num =67\n",
    "print(square_value.__doc__)\n",
    "print(square_value(num))\n",
    "print(square_value(-4))"
   ]
  },
  {
   "cell_type": "markdown",
   "metadata": {},
   "source": [
    "# Given a number return its absolute value"
   ]
  },
  {
   "cell_type": "code",
   "execution_count": 18,
   "metadata": {},
   "outputs": [
    {
     "name": "stdout",
     "output_type": "stream",
     "text": [
      "4\n"
     ]
    }
   ],
   "source": [
    "def absolute(num):\n",
    "    num = num**2\n",
    "    num = num ** (1/2)\n",
    "    return num\n",
    "        \n",
    "print(int(absolute(-4)))"
   ]
  },
  {
   "cell_type": "markdown",
   "metadata": {},
   "source": [
    "# recursion"
   ]
  },
  {
   "cell_type": "code",
   "execution_count": 19,
   "metadata": {},
   "outputs": [
    {
     "name": "stdout",
     "output_type": "stream",
     "text": [
      "This is a recursive function to find the factorial of an integer\n",
      "the factorial of 7 is 5040\n"
     ]
    }
   ],
   "source": [
    "def factorial(x):\n",
    "    \"\"\"This is a recursive function to find the factorial of an integer\"\"\"\n",
    "    if x == 1:\n",
    "        return 1\n",
    "    else:\n",
    "        return (x * factorial(x-1))\n",
    "num = 7\n",
    "print(factorial.__doc__)\n",
    "print(\"the factorial of\", num , \"is\", factorial(num))"
   ]
  },
  {
   "cell_type": "code",
   "execution_count": 20,
   "metadata": {},
   "outputs": [
    {
     "data": {
      "text/plain": [
       "'this is a string function'"
      ]
     },
     "execution_count": 20,
     "metadata": {},
     "output_type": "execute_result"
    }
   ],
   "source": [
    "def fuction():\n",
    "    \"this is a string function\"\n",
    "fuction.__doc__"
   ]
  },
  {
   "cell_type": "code",
   "execution_count": 21,
   "metadata": {},
   "outputs": [
    {
     "data": {
      "text/plain": [
       "5040"
      ]
     },
     "execution_count": 21,
     "metadata": {},
     "output_type": "execute_result"
    }
   ],
   "source": [
    "1*2*3*4*5*6*7"
   ]
  },
  {
   "cell_type": "code",
   "execution_count": 22,
   "metadata": {},
   "outputs": [
    {
     "name": "stdout",
     "output_type": "stream",
     "text": [
      "\n",
      "\n",
      " Recursion Example Results\n",
      "1\n",
      "3\n",
      "6\n"
     ]
    },
    {
     "data": {
      "text/plain": [
       "6"
      ]
     },
     "execution_count": 22,
     "metadata": {},
     "output_type": "execute_result"
    }
   ],
   "source": [
    "def tri_recursion(k):\n",
    "    if(k>0):\n",
    "        result = k + tri_recursion(k-1)\n",
    "        print(result)\n",
    "    else:\n",
    "        result = 0\n",
    "    return result\n",
    "print(\"\\n\\n Recursion Example Results\")\n",
    "tri_recursion(3)"
   ]
  },
  {
   "cell_type": "code",
   "execution_count": null,
   "metadata": {},
   "outputs": [],
   "source": []
  }
 ],
 "metadata": {
  "kernelspec": {
   "display_name": "Python 3",
   "language": "python",
   "name": "python3"
  },
  "language_info": {
   "codemirror_mode": {
    "name": "ipython",
    "version": 3
   },
   "file_extension": ".py",
   "mimetype": "text/x-python",
   "name": "python",
   "nbconvert_exporter": "python",
   "pygments_lexer": "ipython3",
   "version": "3.7.9"
  }
 },
 "nbformat": 4,
 "nbformat_minor": 4
}
