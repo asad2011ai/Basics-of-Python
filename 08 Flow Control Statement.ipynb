{
 "cells": [
  {
   "cell_type": "markdown",
   "metadata": {},
   "source": [
    "# For Loop"
   ]
  },
  {
   "cell_type": "code",
   "execution_count": 1,
   "metadata": {},
   "outputs": [
    {
     "name": "stdout",
     "output_type": "stream",
     "text": [
      "greeks\n",
      "for\n",
      "geeks\n",
      "for loop\n"
     ]
    }
   ],
   "source": [
    "I = [\"greeks\",\"for\",\"geeks\"]\n",
    "for i in I:\n",
    "    print(i)\n",
    "print(\"for loop\")"
   ]
  },
  {
   "cell_type": "code",
   "execution_count": 2,
   "metadata": {},
   "outputs": [
    {
     "name": "stdout",
     "output_type": "stream",
     "text": [
      "List Iternation\n",
      "name: Amir\n",
      "name: Hasir\n",
      "name: Ibrahim\n",
      "name: Ismail\n",
      "name: Hamid\n",
      "name: Adil\n"
     ]
    }
   ],
   "source": [
    "print(\"List Iternation\")\n",
    "I = [\"Amir\",\"Hasir\",\"Ibrahim\",\"Ismail\",\"Hamid\",\"Adil\"]\n",
    "for i in I:\n",
    "    print(\"name: \" + i)"
   ]
  },
  {
   "cell_type": "markdown",
   "metadata": {},
   "source": [
    "# tuple"
   ]
  },
  {
   "cell_type": "code",
   "execution_count": 3,
   "metadata": {},
   "outputs": [
    {
     "name": "stdout",
     "output_type": "stream",
     "text": [
      "List Iternation\n",
      "name: Amir\n",
      "name: Hasir\n",
      "name: Ibrahim\n",
      "name: Ismail\n",
      "name: Hamid\n",
      "name: Adil\n"
     ]
    }
   ],
   "source": [
    "print(\"List Iternation\")\n",
    "I = (\"Amir\",\"Hasir\",\"Ibrahim\",\"Ismail\",\"Hamid\",\"Adil\")\n",
    "for i in I:\n",
    "    print(\"name: \" + i)"
   ]
  },
  {
   "cell_type": "markdown",
   "metadata": {},
   "source": [
    "# string"
   ]
  },
  {
   "cell_type": "code",
   "execution_count": 6,
   "metadata": {},
   "outputs": [
    {
     "name": "stdout",
     "output_type": "stream",
     "text": [
      "P\n",
      "a\n",
      "k\n",
      "i\n",
      "s\n",
      "t\n",
      "a\n",
      "n\n"
     ]
    }
   ],
   "source": [
    "for i in \"Pakistan\":\n",
    "    print(i)"
   ]
  },
  {
   "cell_type": "markdown",
   "metadata": {},
   "source": [
    "# Find the sum of all the numbers stored in a list"
   ]
  },
  {
   "cell_type": "code",
   "execution_count": 8,
   "metadata": {},
   "outputs": [
    {
     "name": "stdout",
     "output_type": "stream",
     "text": [
      "1\n",
      "3\n",
      "6\n",
      "10\n",
      "15\n",
      "21\n",
      "28\n",
      "36\n",
      "45\n",
      "55\n",
      "total sum is = 55\n"
     ]
    }
   ],
   "source": [
    "sum = 0\n",
    "list = [1,2,3,4,5,6,7,8,9,10]\n",
    "for i in list:\n",
    "    sum = sum + i\n",
    "    print(sum)\n",
    "print(f\"total sum is = {sum}\")"
   ]
  },
  {
   "cell_type": "markdown",
   "metadata": {},
   "source": [
    "# Add 3 in all the even numbers in a list and print them"
   ]
  },
  {
   "cell_type": "code",
   "execution_count": 9,
   "metadata": {},
   "outputs": [
    {
     "name": "stdout",
     "output_type": "stream",
     "text": [
      "24\n",
      "5\n",
      "26\n",
      "7\n",
      "28\n",
      "9\n",
      "30\n",
      "11\n",
      "32\n",
      "13\n"
     ]
    }
   ],
   "source": [
    "I = [1, 2, 3, 4, 5, 6, 7, 8, 9, 10]\n",
    "for i in I:\n",
    "    if i%2 == 0:\n",
    "        sum = i + 3\n",
    "        print(sum)\n",
    "    else:\n",
    "        sum = i +23\n",
    "        print(sum)"
   ]
  },
  {
   "cell_type": "markdown",
   "metadata": {},
   "source": [
    "# python program to show range() basic"
   ]
  },
  {
   "cell_type": "code",
   "execution_count": 10,
   "metadata": {},
   "outputs": [
    {
     "name": "stdout",
     "output_type": "stream",
     "text": [
      "0\n",
      "1\n",
      "2\n",
      "3\n",
      "4\n",
      "5\n",
      "6\n",
      "7\n",
      "8\n",
      "9\n"
     ]
    }
   ],
   "source": [
    "for i in range(10):\n",
    "    print(i)"
   ]
  },
  {
   "cell_type": "code",
   "execution_count": 11,
   "metadata": {},
   "outputs": [
    {
     "name": "stdout",
     "output_type": "stream",
     "text": [
      "[0]\n",
      "[1]\n",
      "[2]\n",
      "[3]\n"
     ]
    }
   ],
   "source": [
    "I= [10, 20, 30, 40]\n",
    "for i in range(len(I)):\n",
    "    print([i])"
   ]
  },
  {
   "cell_type": "markdown",
   "metadata": {},
   "source": [
    "# performing sum of first 9 numbers using range"
   ]
  },
  {
   "cell_type": "markdown",
   "metadata": {},
   "source": [
    "# sum = 0\n",
    "for i in range(1,10):\n",
    "    sum = sum +i\n",
    "    print(sum)"
   ]
  },
  {
   "cell_type": "markdown",
   "metadata": {},
   "source": [
    "# print a multiplication table of a given number"
   ]
  },
  {
   "cell_type": "code",
   "execution_count": 13,
   "metadata": {},
   "outputs": [
    {
     "name": "stdout",
     "output_type": "stream",
     "text": [
      "Enter The Number = 4\n",
      "4\n",
      "8\n",
      "12\n",
      "16\n",
      "20\n",
      "24\n",
      "28\n",
      "32\n",
      "36\n",
      "40\n"
     ]
    }
   ],
   "source": [
    "number = int(input(\"Enter The Number = \"))\n",
    "for i in range(1,11):\n",
    "    result = number*i\n",
    "    print(result)"
   ]
  },
  {
   "cell_type": "markdown",
   "metadata": {},
   "source": [
    "# print all letters except \"e\" and \"s\" in \"geeksforgeeks\""
   ]
  },
  {
   "cell_type": "code",
   "execution_count": 15,
   "metadata": {},
   "outputs": [
    {
     "name": "stdout",
     "output_type": "stream",
     "text": [
      "values are = g\n",
      "values are = k\n",
      "values are = f\n",
      "values are = o\n",
      "values are = r\n",
      "values are = g\n",
      "values are = k\n"
     ]
    }
   ],
   "source": [
    "for i in \"geeksforgeeks\":\n",
    "    if i == \"e\" or i ==\"s\":\n",
    "        continue\n",
    "    print(\"values are = \" + i)"
   ]
  },
  {
   "cell_type": "markdown",
   "metadata": {},
   "source": [
    "# consider the situation when you need to write a program which prints the number from 1 to 10 and but not 6"
   ]
  },
  {
   "cell_type": "code",
   "execution_count": 16,
   "metadata": {},
   "outputs": [
    {
     "name": "stdout",
     "output_type": "stream",
     "text": [
      "1\n",
      "2\n",
      "3\n",
      "4\n",
      "5\n",
      "7\n",
      "8\n",
      "9\n",
      "10\n"
     ]
    }
   ],
   "source": [
    "for i in range(1, 11):\n",
    "    if i == 6:\n",
    "        continue\n",
    "    print(i)"
   ]
  },
  {
   "cell_type": "markdown",
   "metadata": {},
   "source": [
    "# break the loop as soon as it sees \"e\" or \"s\" in \"greeksforgeeks\""
   ]
  },
  {
   "cell_type": "code",
   "execution_count": 17,
   "metadata": {},
   "outputs": [
    {
     "name": "stdout",
     "output_type": "stream",
     "text": [
      "g\n"
     ]
    }
   ],
   "source": [
    "for i in \"geeksforgeeks\":\n",
    "    if i == \"e\" or i == \"s\":\n",
    "        break\n",
    "    print(i)"
   ]
  },
  {
   "cell_type": "markdown",
   "metadata": {},
   "source": [
    "# Pass Statement"
   ]
  },
  {
   "cell_type": "code",
   "execution_count": 18,
   "metadata": {},
   "outputs": [
    {
     "name": "stdout",
     "output_type": "stream",
     "text": [
      "letter is :s\n"
     ]
    }
   ],
   "source": [
    "for letter in \"geeksforgeeks\":\n",
    "    pass\n",
    "print(\"letter is :\" + letter)"
   ]
  },
  {
   "cell_type": "markdown",
   "metadata": {},
   "source": [
    "# write a program to write all the prime number within a range"
   ]
  },
  {
   "cell_type": "code",
   "execution_count": 19,
   "metadata": {},
   "outputs": [
    {
     "name": "stdout",
     "output_type": "stream",
     "text": [
      "Enter the number = 3\n",
      "3 is prime number\n"
     ]
    }
   ],
   "source": [
    "number = int(input(\"Enter the number = \"))\n",
    "if number >1:\n",
    "    for i in range(2, number):\n",
    "        if (number % i) == 0:\n",
    "            print(f\"{number} is not prime number\")\n",
    "            break\n",
    "        else:\n",
    "            print(f\"{number} is prime number\")\n",
    "else:\n",
    "    print(f\"{number} is not prime number\")"
   ]
  },
  {
   "cell_type": "code",
   "execution_count": 20,
   "metadata": {},
   "outputs": [
    {
     "name": "stdout",
     "output_type": "stream",
     "text": [
      "enter the first limit = 2\n",
      "enter the second limit = 5\n",
      "2\n",
      "3\n",
      "5\n"
     ]
    }
   ],
   "source": [
    "number1= int(input(\"enter the first limit = \"))\n",
    "number2 = int(input(\"enter the second limit = \"))\n",
    "for num in range(number1, number2+1):\n",
    "    for i in range(2, num):\n",
    "        if num%i == 0:\n",
    "            break\n",
    "    else:\n",
    "        print(num)"
   ]
  },
  {
   "cell_type": "markdown",
   "metadata": {},
   "source": [
    "# for loop with else"
   ]
  },
  {
   "cell_type": "code",
   "execution_count": 21,
   "metadata": {},
   "outputs": [
    {
     "name": "stdout",
     "output_type": "stream",
     "text": [
      "1\n",
      "2\n",
      "3\n",
      "4\n",
      "5\n",
      "no digit left\n"
     ]
    }
   ],
   "source": [
    "digit = [1,2,3,4,5]\n",
    "for i in digit:\n",
    "    print(i)\n",
    "else:\n",
    "    print(\"no digit left\")"
   ]
  },
  {
   "cell_type": "code",
   "execution_count": 22,
   "metadata": {},
   "outputs": [
    {
     "name": "stdout",
     "output_type": "stream",
     "text": [
      "1\n",
      "2\n",
      "3\n",
      "no break\n"
     ]
    }
   ],
   "source": [
    "for i in range(1,4):\n",
    "    print(i)\n",
    "else:\n",
    "    print(\"no break\")"
   ]
  },
  {
   "cell_type": "markdown",
   "metadata": {},
   "source": [
    "# while loop"
   ]
  },
  {
   "cell_type": "code",
   "execution_count": 23,
   "metadata": {},
   "outputs": [
    {
     "name": "stdout",
     "output_type": "stream",
     "text": [
      "hello Geek\n",
      "hello Geek\n",
      "hello Geek\n"
     ]
    }
   ],
   "source": [
    "count = 0\n",
    "while(count < 3):\n",
    "    count = count + 1\n",
    "    print(\"hello Geek\")"
   ]
  },
  {
   "cell_type": "markdown",
   "metadata": {},
   "source": [
    "# program to add natural up to a specific number ie n"
   ]
  },
  {
   "cell_type": "code",
   "execution_count": 24,
   "metadata": {},
   "outputs": [
    {
     "name": "stdout",
     "output_type": "stream",
     "text": [
      "Enter the number = 5\n",
      "the sum is  15\n"
     ]
    }
   ],
   "source": [
    "number = int(input(\"Enter the number = \"))\n",
    "sum = 0\n",
    "i = 1\n",
    "while i<=number:\n",
    "    sum = sum +i\n",
    "    i= i+1\n",
    "print(\"the sum is \", sum)"
   ]
  },
  {
   "cell_type": "markdown",
   "metadata": {},
   "source": [
    "# Example to illustrate the use of else statement with the while loop"
   ]
  },
  {
   "cell_type": "code",
   "execution_count": 25,
   "metadata": {},
   "outputs": [
    {
     "name": "stdout",
     "output_type": "stream",
     "text": [
      "inside loop\n",
      "inside loop\n",
      "inside loop\n",
      "inside else\n"
     ]
    }
   ],
   "source": [
    "counter = 0\n",
    "while counter < 3:\n",
    "    print(\"inside loop\")\n",
    "    counter = counter + 1\n",
    "else:\n",
    "    print(\"inside else\")"
   ]
  },
  {
   "cell_type": "code",
   "execution_count": null,
   "metadata": {},
   "outputs": [],
   "source": []
  }
 ],
 "metadata": {
  "kernelspec": {
   "display_name": "Python 3",
   "language": "python",
   "name": "python3"
  },
  "language_info": {
   "codemirror_mode": {
    "name": "ipython",
    "version": 3
   },
   "file_extension": ".py",
   "mimetype": "text/x-python",
   "name": "python",
   "nbconvert_exporter": "python",
   "pygments_lexer": "ipython3",
   "version": "3.7.9"
  }
 },
 "nbformat": 4,
 "nbformat_minor": 4
}
