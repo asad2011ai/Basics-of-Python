{
 "cells": [
  {
   "cell_type": "markdown",
   "metadata": {},
   "source": [
    "# IF ELSE Condition Statement"
   ]
  },
  {
   "cell_type": "code",
   "execution_count": 1,
   "metadata": {},
   "outputs": [
    {
     "name": "stdout",
     "output_type": "stream",
     "text": [
      "a is greater then b\n"
     ]
    }
   ],
   "source": [
    "a = 20\n",
    "b = 200\n",
    "if b>a:\n",
    "    print(\"a is greater then b\")"
   ]
  },
  {
   "cell_type": "code",
   "execution_count": 2,
   "metadata": {},
   "outputs": [
    {
     "name": "stdout",
     "output_type": "stream",
     "text": [
      "3 is a positive number\n",
      "it is a number program\n"
     ]
    }
   ],
   "source": [
    "num = 3\n",
    "if num>0:\n",
    "    print(num,\"is a positive number\")\n",
    "print(\"it is a number program\")"
   ]
  },
  {
   "cell_type": "code",
   "execution_count": 3,
   "metadata": {},
   "outputs": [
    {
     "name": "stdout",
     "output_type": "stream",
     "text": [
      "it is a number program\n"
     ]
    }
   ],
   "source": [
    "num = -1\n",
    "if num>0:\n",
    "    print(num,\"is a positive number\")\n",
    "print(\"it is a number program\")"
   ]
  },
  {
   "cell_type": "code",
   "execution_count": 4,
   "metadata": {},
   "outputs": [
    {
     "name": "stdout",
     "output_type": "stream",
     "text": [
      "3 is a positive number\n"
     ]
    }
   ],
   "source": [
    "num = 3\n",
    "if num>0:print(num,\"is a positive number\")\n"
   ]
  },
  {
   "cell_type": "code",
   "execution_count": 5,
   "metadata": {},
   "outputs": [
    {
     "name": "stdout",
     "output_type": "stream",
     "text": [
      "greater\n"
     ]
    }
   ],
   "source": [
    "number = 0\n",
    "if number >=0:\n",
    "    print(\"greater\")\n",
    "else:\n",
    "    print(\"smaller\")"
   ]
  },
  {
   "cell_type": "code",
   "execution_count": 6,
   "metadata": {},
   "outputs": [
    {
     "name": "stdout",
     "output_type": "stream",
     "text": [
      "enter a number = -1\n",
      "a is smaller\n"
     ]
    }
   ],
   "source": [
    "a = int(input(\"enter a number = \"))\n",
    "if a>0:\n",
    "    print(\"a is greater\")\n",
    "else:\n",
    "    print(\"a is smaller\")"
   ]
  },
  {
   "cell_type": "code",
   "execution_count": 7,
   "metadata": {},
   "outputs": [
    {
     "name": "stdout",
     "output_type": "stream",
     "text": [
      "the number positive\n"
     ]
    }
   ],
   "source": [
    "num = 2\n",
    "print(\"the number positive\") if(num>0) else print(\"the number is negative\")"
   ]
  },
  {
   "cell_type": "markdown",
   "metadata": {},
   "source": [
    "# CHECK IF THE NUMBER IS POSITIVE OR NEGATIVE OR ZERO AND DISPLAY AN APPROPRIATE MESSAGE¶"
   ]
  },
  {
   "cell_type": "code",
   "execution_count": 9,
   "metadata": {},
   "outputs": [
    {
     "name": "stdout",
     "output_type": "stream",
     "text": [
      "then number is negative\n"
     ]
    }
   ],
   "source": [
    "num = -6\n",
    "if(num>=0):\n",
    "    if (num == 0):\n",
    "        print(\"Then number is zero\")\n",
    "    else:\n",
    "        print(\"then number is positive\")\n",
    "else:\n",
    "    print(\"then number is negative\")"
   ]
  },
  {
   "cell_type": "markdown",
   "metadata": {},
   "source": [
    "# elseif statement"
   ]
  },
  {
   "cell_type": "markdown",
   "metadata": {},
   "source": [
    "# check if the number is less then 15 or less than 12 possitive or greater then 15"
   ]
  },
  {
   "cell_type": "code",
   "execution_count": 10,
   "metadata": {},
   "outputs": [
    {
     "name": "stdout",
     "output_type": "stream",
     "text": [
      "the number is negative\n"
     ]
    }
   ],
   "source": [
    "number = -4\n",
    "if(num >0):\n",
    "    print(\"the number is positive\")\n",
    "elif(num == 0):\n",
    "    print(\"the number is zero\")\n",
    "else:\n",
    "    print(\"the number is negative\")"
   ]
  },
  {
   "cell_type": "code",
   "execution_count": 11,
   "metadata": {},
   "outputs": [
    {
     "name": "stdout",
     "output_type": "stream",
     "text": [
      "number is not present\n"
     ]
    }
   ],
   "source": [
    "num = 14\n",
    "if(num == 10):\n",
    "    print(\"the number is 10\")\n",
    "elif(num == 15):\n",
    "    print(\"the number is 15\")\n",
    "elif(num == 20):\n",
    "    print(\"the number is 20\")\n",
    "else:\n",
    "    print(\"number is not present\")"
   ]
  },
  {
   "cell_type": "markdown",
   "metadata": {},
   "source": [
    "# calculate the shipping cost for Australia and USA. for USA, it is 50 for total less then 50, 25 for total greater then 50 and less then 100, free for greater then 100. for australia, it is 15 for total less than 50 and free otherwise"
   ]
  },
  {
   "cell_type": "code",
   "execution_count": 12,
   "metadata": {},
   "outputs": [
    {
     "name": "stdout",
     "output_type": "stream",
     "text": [
      "Enter the number of item = 25\n",
      "Enter The Country Name = australia\n",
      "Your Shipping cost is 15$\n"
     ]
    }
   ],
   "source": [
    "items = int(input(\"Enter the number of item = \"))\n",
    "country = input(\"Enter The Country Name = \")\n",
    "\n",
    "if country == \"australia\":\n",
    "    if items <=50:\n",
    "        print(\"Your Shipping cost is 15$\")\n",
    "    else:\n",
    "        print(\"No shipping price its free\")\n",
    "    \n",
    "if country == \"usa\":\n",
    "    if items <50:\n",
    "        print(\"Your Shipping cost is 50$\")\n",
    "        \n",
    "elif items >=50:\n",
    "    print(\"Your Shipping cost is 25$\")\n",
    "if items >=100:\n",
    "    print(\"No Shipping price is free\")\n",
    "        "
   ]
  },
  {
   "cell_type": "code",
   "execution_count": null,
   "metadata": {},
   "outputs": [],
   "source": []
  },
  {
   "cell_type": "code",
   "execution_count": 13,
   "metadata": {},
   "outputs": [
    {
     "name": "stdout",
     "output_type": "stream",
     "text": [
      "Error\n"
     ]
    }
   ],
   "source": [
    "a = 10\n",
    "b = 20\n",
    "if a == b:\n",
    "    print(\"A is greater then B\")\n",
    "else:\n",
    "    print(\"Error\")"
   ]
  },
  {
   "cell_type": "code",
   "execution_count": 14,
   "metadata": {},
   "outputs": [
    {
     "name": "stdout",
     "output_type": "stream",
     "text": [
      "A is not equal then B\n"
     ]
    }
   ],
   "source": [
    "a = 10\n",
    "b = 20\n",
    "if a != b:\n",
    "    print(\"A is not equal then B\")\n",
    "else:\n",
    "    print(\"Error\")"
   ]
  },
  {
   "cell_type": "code",
   "execution_count": 15,
   "metadata": {},
   "outputs": [
    {
     "name": "stdout",
     "output_type": "stream",
     "text": [
      "A is not equal then B\n"
     ]
    }
   ],
   "source": [
    "a = 10\n",
    "b = 20\n",
    "if a < b:\n",
    "    print(\"A is not equal then B\")\n",
    "else:\n",
    "    print(\"Error\")"
   ]
  },
  {
   "cell_type": "markdown",
   "metadata": {},
   "source": [
    "# WRITE A CODE TO CHECK IF B IS GREATER THEN A AND PRINT IT? ##"
   ]
  },
  {
   "cell_type": "code",
   "execution_count": 16,
   "metadata": {},
   "outputs": [
    {
     "name": "stdout",
     "output_type": "stream",
     "text": [
      "b is greater then a\n"
     ]
    }
   ],
   "source": [
    "a = 10\n",
    "b = 20\n",
    "if b>a:\n",
    "    print(\"b is greater then a\")"
   ]
  },
  {
   "cell_type": "markdown",
   "metadata": {},
   "source": [
    "# 1 line code"
   ]
  },
  {
   "cell_type": "code",
   "execution_count": 17,
   "metadata": {},
   "outputs": [
    {
     "name": "stdout",
     "output_type": "stream",
     "text": [
      "the number is positive\n"
     ]
    }
   ],
   "source": [
    "num = 3\n",
    "if num>0: print(\"the number is positive\")"
   ]
  },
  {
   "cell_type": "code",
   "execution_count": 18,
   "metadata": {},
   "outputs": [
    {
     "name": "stdout",
     "output_type": "stream",
     "text": [
      "error\n"
     ]
    }
   ],
   "source": [
    "num = 3\n",
    "print(\"number greater then 12\") if(num>12) else print(\"error\")"
   ]
  },
  {
   "cell_type": "markdown",
   "metadata": {},
   "source": [
    "# check if the number is positive or negative or zero and display an display an appropriate message"
   ]
  },
  {
   "cell_type": "code",
   "execution_count": 19,
   "metadata": {},
   "outputs": [
    {
     "name": "stdout",
     "output_type": "stream",
     "text": [
      "number is negative\n"
     ]
    }
   ],
   "source": [
    "num = -10\n",
    "if num > 0:\n",
    "    print(\"number is positive\")\n",
    "if num < 0:\n",
    "    print(\"number is negative\")\n",
    "else:\n",
    "    print(\"number is zero\")"
   ]
  },
  {
   "cell_type": "markdown",
   "metadata": {},
   "source": [
    "# check if the number is less than 15 if so then check it is also less then 12 or greater than 15"
   ]
  },
  {
   "cell_type": "code",
   "execution_count": 20,
   "metadata": {},
   "outputs": [
    {
     "name": "stdout",
     "output_type": "stream",
     "text": [
      "less then 15\n"
     ]
    }
   ],
   "source": [
    "number = 13\n",
    "if number < 15:\n",
    "    print(\"less then 15\")\n",
    "elif number == 15:\n",
    "    print(\"number is 15\")\n",
    "else:\n",
    "    print(\"greater then 15\")\n",
    "    \n",
    "if number < 12:\n",
    "    print(\"also less then 12\")\n",
    "elif number == 12:\n",
    "    print(\"number is 12\")"
   ]
  },
  {
   "cell_type": "markdown",
   "metadata": {},
   "source": [
    "# check if the number is only greater than 10 or also greater than 20"
   ]
  },
  {
   "cell_type": "code",
   "execution_count": 21,
   "metadata": {},
   "outputs": [
    {
     "name": "stdout",
     "output_type": "stream",
     "text": [
      "less then 10\n"
     ]
    }
   ],
   "source": [
    "number = 9\n",
    "if number > 10:\n",
    "    if number > 20:\n",
    "        print(\"above then 10 and 20\")\n",
    "else:\n",
    "    print(\"less then 10\")\n",
    "if number >10:\n",
    "    if number < 20:\n",
    "        print(\"above then 10 and not above 20\")"
   ]
  },
  {
   "cell_type": "markdown",
   "metadata": {},
   "source": [
    "# check if then number is positive or negative or zero and display an appropriate message"
   ]
  },
  {
   "cell_type": "code",
   "execution_count": 22,
   "metadata": {},
   "outputs": [
    {
     "name": "stdout",
     "output_type": "stream",
     "text": [
      "number is positive\n"
     ]
    }
   ],
   "source": [
    "# number = 0\n",
    "if number > 0:\n",
    "    print(\"number is positive\")\n",
    "elif number < 0:\n",
    "    print('number is negative')\n",
    "elif number == 0 :\n",
    "    print(\"number is zero\")"
   ]
  },
  {
   "cell_type": "code",
   "execution_count": null,
   "metadata": {},
   "outputs": [],
   "source": []
  }
 ],
 "metadata": {
  "kernelspec": {
   "display_name": "Python 3",
   "language": "python",
   "name": "python3"
  },
  "language_info": {
   "codemirror_mode": {
    "name": "ipython",
    "version": 3
   },
   "file_extension": ".py",
   "mimetype": "text/x-python",
   "name": "python",
   "nbconvert_exporter": "python",
   "pygments_lexer": "ipython3",
   "version": "3.7.9"
  }
 },
 "nbformat": 4,
 "nbformat_minor": 4
}
